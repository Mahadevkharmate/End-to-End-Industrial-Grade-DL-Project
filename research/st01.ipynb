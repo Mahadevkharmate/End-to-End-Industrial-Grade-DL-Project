{
 "cells": [
  {
   "cell_type": "markdown",
   "id": "620641f9",
   "metadata": {},
   "source": [
    "Data Ingestion stage\n",
    " - first updated config.yaml--> params.yaml files\n",
    " "
   ]
  },
  {
   "cell_type": "code",
   "execution_count": 1,
   "id": "68e04159",
   "metadata": {},
   "outputs": [],
   "source": [
    "# now updating for entity\n",
    "\n",
    "from collections import namedtuple\n",
    "import os\n",
    "\n",
    "\n",
    "DataIngestionConfig = namedtuple(\"DataIngestionConfig\",[\n",
    "    \"root_dir\",\n",
    "    \"source_url\",\n",
    "    \"local_data_file\",\n",
    "    \"unzip_dir\"\n",
    "    ])\n",
    "\n",
    "#or you can follow datclass \n",
    "from pathlib import Path \n",
    "from dataclasses import dataclass\n",
    "\n",
    "@dataclass(frozen=True)\n",
    "class DataIngestionConfig:\n",
    "    root_dir: Path\n",
    "    source_url: str\n",
    "    local_data_file: Path\n",
    "    unzip_dir: Path"
   ]
  },
  {
   "cell_type": "code",
   "execution_count": 3,
   "id": "b758ee2e",
   "metadata": {},
   "outputs": [],
   "source": [
    "import sys\n",
    "import os\n",
    "sys.path.append(os.path.abspath(os.path.join(os.getcwd(), '..')))"
   ]
  },
  {
   "cell_type": "code",
   "execution_count": null,
   "id": "a17efd72",
   "metadata": {},
   "outputs": [],
   "source": [
    "#write-> configurationmanager\n",
    "#import constants\n",
    "\n",
    "from src.CNNClassifier.constants import CONFIG_FILE_PATH, PARAMS_FILE_PATH\n",
    "from src.CNNClassifier.utils.common import read_yaml, create_directories\n",
    "\n"
   ]
  },
  {
   "cell_type": "code",
   "execution_count": null,
   "id": "b9a6c0fe",
   "metadata": {},
   "outputs": [],
   "source": []
  },
  {
   "cell_type": "code",
   "execution_count": null,
   "id": "63a4d338",
   "metadata": {},
   "outputs": [],
   "source": []
  }
 ],
 "metadata": {
  "kernelspec": {
   "display_name": "Python 3",
   "language": "python",
   "name": "python3"
  },
  "language_info": {
   "codemirror_mode": {
    "name": "ipython",
    "version": 3
   },
   "file_extension": ".py",
   "mimetype": "text/x-python",
   "name": "python",
   "nbconvert_exporter": "python",
   "pygments_lexer": "ipython3",
   "version": "3.11.13"
  }
 },
 "nbformat": 4,
 "nbformat_minor": 5
}
