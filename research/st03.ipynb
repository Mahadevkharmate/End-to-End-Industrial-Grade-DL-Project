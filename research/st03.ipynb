{
 "cells": [
  {
   "cell_type": "markdown",
   "id": "ef925b64",
   "metadata": {},
   "source": [
    "# Prepare_callbacks"
   ]
  },
  {
   "cell_type": "code",
   "execution_count": 1,
   "id": "77653ca8",
   "metadata": {},
   "outputs": [
    {
     "data": {
      "text/plain": [
       "'c:\\\\Users\\\\HP\\\\Desktop\\\\DS\\\\DL_Projects\\\\2025-projects\\\\End-to-End-Industrial-Grade-DL-Project\\\\research'"
      ]
     },
     "execution_count": 1,
     "metadata": {},
     "output_type": "execute_result"
    }
   ],
   "source": [
    "%pwd"
   ]
  },
  {
   "cell_type": "code",
   "execution_count": 2,
   "id": "5f52e986",
   "metadata": {},
   "outputs": [],
   "source": [
    "import os\n",
    "os.chdir(\"../\")"
   ]
  },
  {
   "cell_type": "code",
   "execution_count": 3,
   "id": "c95ba7e8",
   "metadata": {},
   "outputs": [
    {
     "data": {
      "text/plain": [
       "'c:\\\\Users\\\\HP\\\\Desktop\\\\DS\\\\DL_Projects\\\\2025-projects\\\\End-to-End-Industrial-Grade-DL-Project'"
      ]
     },
     "execution_count": 3,
     "metadata": {},
     "output_type": "execute_result"
    }
   ],
   "source": [
    "%pwd"
   ]
  },
  {
   "cell_type": "code",
   "execution_count": 4,
   "id": "cce05141",
   "metadata": {},
   "outputs": [],
   "source": [
    "#preparing entity\n",
    "\n",
    "from dataclasses import dataclass\n",
    "from pathlib import Path\n",
    "\n",
    "@dataclass(frozen=True)\n",
    "class CallabacksConfig:\n",
    "    root_dir: Path\n",
    "    tensorboard_root_log_dir: Path\n",
    "    checkpoint_model_filepath: Path"
   ]
  },
  {
   "cell_type": "code",
   "execution_count": 5,
   "id": "e66259ab",
   "metadata": {},
   "outputs": [],
   "source": [
    "#preparing configguration manager\n",
    "\n",
    "from src.CNNClassifier.constants import CONFIG_FILE_PATH, PARAMS_FILE_PATH\n",
    "from src.CNNClassifier.utils import read_yaml, create_directories\n",
    "\n",
    "class ConfigurationManager:\n",
    "    def __init__(self,\n",
    "                 config_filepath = CONFIG_FILE_PATH,\n",
    "                 params_filepath = PARAMS_FILE_PATH,\n",
    "                 ):\n",
    "        self.config = read_yaml(config_filepath)\n",
    "        self.params = read_yaml(params_filepath)\n",
    "        create_directories([self.config.artifacts_root])\n",
    "\n",
    "    #preparing_callbacks_configurations\n",
    "    def get_callbacks_config(self) -> CallabacksConfig:\n",
    "        config = self.config.callbacks\n",
    "        model_ckpt_dir = os.path.dirname(config.checkpoint_model_filepath)\n",
    "\n",
    "        create_directories([\n",
    "            Path(config.tensorboard_root_log_dir),\n",
    "            Path(model_ckpt_dir)\n",
    "            ])\n",
    "\n",
    "        callbacks_config = CallabacksConfig(\n",
    "            root_dir = Path(config.root_dir),\n",
    "            tensorboard_root_log_dir = Path(config.tensorboard_root_log_dir),\n",
    "            checkpoint_model_filepath = Path(config.checkpoint_model_filepath)\n",
    "        )\n",
    "        return callbacks_config\n",
    "\n",
    "    #prepare_function to crate model_checkpoints and tensorboard_logs\n"
   ]
  },
  {
   "cell_type": "code",
   "execution_count": 6,
   "id": "4832c61c",
   "metadata": {},
   "outputs": [],
   "source": [
    "#prepare my components\n",
    "import os\n",
    "import tensorflow as tf\n",
    "from zipfile import ZipFile\n",
    "import urllib.request as request\n",
    "import time\n",
    "\n",
    "\n",
    "class Callbacks:\n",
    "    def __init__(self, config:CallabacksConfig):\n",
    "        self.config = config\n",
    "\n",
    "    @property\n",
    "    def _create_tb_callbacks(self):\n",
    "        timestamp = time.strftime(\"%Y-%m-%d:%H-%M-%S\")\n",
    "        tb_runing_log_dir = os.path.join(self.config.tensorboard_root_log_dir,f\"tb_logs_at_{timestamp}\")\n",
    "        return tf.keras.callbacks.TensorBoard(log_dir= tb_runing_log_dir)\n",
    "    \n",
    "    @property\n",
    "    def _create_chkp_callbacks(self):\n",
    "        tf.keras.callbacks.ModelCheckpoint(\n",
    "            filepath = self.config.checkpoint_model_filepath,\n",
    "            save_best_only = True\n",
    "        )\n",
    "\n",
    "    #define methods to get tensorboard checkpoints\n",
    "    def get_tb_chkp_callbacks(self):\n",
    "        return[\n",
    "            self._create_tb_callbacks,\n",
    "            self._create_chkp_callbacks\n",
    "        ]"
   ]
  },
  {
   "cell_type": "code",
   "execution_count": 7,
   "id": "99844983",
   "metadata": {},
   "outputs": [
    {
     "name": "stdout",
     "output_type": "stream",
     "text": [
      "[2025-10-05 19:10:21,454: INFO: common]: yaml file: configs\\config.yaml loaded successfully]\n",
      "[2025-10-05 19:10:21,456: INFO: common]: yaml file: params.yaml loaded successfully]\n",
      "[2025-10-05 19:10:21,458: INFO: common]: Directory created at: artifacts]\n",
      "[2025-10-05 19:10:21,460: INFO: common]: Directory created at: artifacts\\callbacks\\tensorboard_root_log_dir]\n",
      "[2025-10-05 19:10:21,462: INFO: common]: Directory created at: artifacts\\callbacks\\checkpoint_dir]\n"
     ]
    }
   ],
   "source": [
    "#preparing pipeline\n",
    "try:\n",
    "    config = ConfigurationManager()\n",
    "    callbacks_config = config.get_callbacks_config()    \n",
    "    callbacks = Callbacks(config = callbacks_config)\n",
    "    callbacks_list = callbacks.get_tb_chkp_callbacks()\n",
    "except Exception as e:\n",
    "    raise e\n",
    "\n"
   ]
  }
 ],
 "metadata": {
  "kernelspec": {
   "display_name": "Python 3",
   "language": "python",
   "name": "python3"
  },
  "language_info": {
   "codemirror_mode": {
    "name": "ipython",
    "version": 3
   },
   "file_extension": ".py",
   "mimetype": "text/x-python",
   "name": "python",
   "nbconvert_exporter": "python",
   "pygments_lexer": "ipython3",
   "version": "3.11.13"
  }
 },
 "nbformat": 4,
 "nbformat_minor": 5
}
