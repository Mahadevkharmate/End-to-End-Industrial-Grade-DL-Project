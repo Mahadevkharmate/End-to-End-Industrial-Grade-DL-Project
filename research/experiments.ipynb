{
 "cells": [
  {
   "cell_type": "code",
   "execution_count": 13,
   "id": "136ee6fc",
   "metadata": {},
   "outputs": [],
   "source": [
    "from box import Box\n",
    "from box.exceptions import BoxValueError\n",
    "\n",
    "config  = {\"learning_rate\": 0.01, \"batch_size\": 32, \"model\": {\"type\": \"resnet\", \"layers\": 50}}\n"
   ]
  },
  {
   "cell_type": "code",
   "execution_count": 8,
   "id": "5f09f1f1",
   "metadata": {},
   "outputs": [
    {
     "ename": "AttributeError",
     "evalue": "'dict' object has no attribute 'learning_rate'",
     "output_type": "error",
     "traceback": [
      "\u001b[1;31m---------------------------------------------------------------------------\u001b[0m",
      "\u001b[1;31mAttributeError\u001b[0m                            Traceback (most recent call last)",
      "\u001b[1;32m~\\AppData\\Local\\Temp\\ipykernel_3024\\3782651748.py\u001b[0m in \u001b[0;36m<cell line: 0>\u001b[1;34m()\u001b[0m\n\u001b[1;32m----> 1\u001b[1;33m \u001b[0mconfig\u001b[0m\u001b[1;33m.\u001b[0m\u001b[0mlearning_rate\u001b[0m \u001b[1;33m=\u001b[0m \u001b[1;36m0.002\u001b[0m\u001b[1;33m\u001b[0m\u001b[1;33m\u001b[0m\u001b[0m\n\u001b[0m",
      "\u001b[1;31mAttributeError\u001b[0m: 'dict' object has no attribute 'learning_rate'"
     ]
    }
   ],
   "source": [
    "config[\"learning_rate\"] = 0.002"
   ]
  },
  {
   "cell_type": "code",
   "execution_count": 16,
   "id": "46fe2c38",
   "metadata": {},
   "outputs": [],
   "source": [
    "config = {'learning_rate': 0.03, 'batch_size': 32, 'model': {'type': 'resnet', 'layers': 50}}"
   ]
  },
  {
   "cell_type": "code",
   "execution_count": 20,
   "id": "75b2b742",
   "metadata": {},
   "outputs": [
    {
     "data": {
      "text/plain": [
       "dict"
      ]
     },
     "execution_count": 20,
     "metadata": {},
     "output_type": "execute_result"
    }
   ],
   "source": [
    "type(config)"
   ]
  },
  {
   "cell_type": "code",
   "execution_count": 4,
   "id": "fe9bfe8f",
   "metadata": {},
   "outputs": [
    {
     "data": {
      "text/plain": [
       "0.03"
      ]
     },
     "execution_count": 4,
     "metadata": {},
     "output_type": "execute_result"
    }
   ],
   "source": [
    "config[\"learning_rate\"]"
   ]
  },
  {
   "cell_type": "code",
   "execution_count": 21,
   "id": "88db73bc",
   "metadata": {},
   "outputs": [
    {
     "data": {
      "text/plain": [
       "Box({'learning_rate': 0.03, 'batch_size': 32, 'model': {'type': 'resnet', 'layers': 50}})"
      ]
     },
     "execution_count": 21,
     "metadata": {},
     "output_type": "execute_result"
    }
   ],
   "source": [
    "config = Box(config)\n",
    "config "
   ]
  },
  {
   "cell_type": "code",
   "execution_count": 22,
   "id": "1d9bf7ac",
   "metadata": {},
   "outputs": [
    {
     "data": {
      "text/plain": [
       "box.box.Box"
      ]
     },
     "execution_count": 22,
     "metadata": {},
     "output_type": "execute_result"
    }
   ],
   "source": [
    "type(config)"
   ]
  },
  {
   "cell_type": "code",
   "execution_count": 23,
   "id": "65db5798",
   "metadata": {},
   "outputs": [
    {
     "data": {
      "text/plain": [
       "ConfigBox({'learning_rate': 0.03, 'batch_size': 32, 'model': {'type': 'resnet', 'layers': 50}})"
      ]
     },
     "execution_count": 23,
     "metadata": {},
     "output_type": "execute_result"
    }
   ],
   "source": [
    "from box import ConfigBox\n",
    "\n",
    "Config = ConfigBox(config)\n",
    "Config "
   ]
  },
  {
   "cell_type": "code",
   "execution_count": 15,
   "id": "ade772f9",
   "metadata": {},
   "outputs": [
    {
     "data": {
      "text/plain": [
       "0.01"
      ]
     },
     "execution_count": 15,
     "metadata": {},
     "output_type": "execute_result"
    }
   ],
   "source": [
    "config.learning_rate"
   ]
  },
  {
   "cell_type": "code",
   "execution_count": 23,
   "id": "18ff31ec",
   "metadata": {},
   "outputs": [],
   "source": [
    "config.model.type = \"vgg\""
   ]
  },
  {
   "cell_type": "code",
   "execution_count": 24,
   "id": "f7744d48",
   "metadata": {},
   "outputs": [
    {
     "data": {
      "text/plain": [
       "'vgg'"
      ]
     },
     "execution_count": 24,
     "metadata": {},
     "output_type": "execute_result"
    }
   ],
   "source": [
    "config.model.type "
   ]
  },
  {
   "cell_type": "code",
   "execution_count": 6,
   "id": "af479b8e",
   "metadata": {},
   "outputs": [
    {
     "name": "stdout",
     "output_type": "stream",
     "text": [
      "Caught a BoxValueError: learning_rate must be numeric\n"
     ]
    }
   ],
   "source": [
    "from box import Box\n",
    "from box.exceptions import BoxValueError\n",
    "\n",
    "try:\n",
    "    # Create a Box\n",
    "    config = Box({\"learning_rate\": 0.01})\n",
    "    \n",
    "    # Try something invalid\n",
    "    config.learning_rate = \"fast\"   # expecting a number, but got string\n",
    "    \n",
    "    if not isinstance(config.learning_rate, (int, float)):\n",
    "        raise BoxValueError(\"learning_rate must be numeric\")\n",
    "    print(config.learning_rate)\n",
    "except BoxValueError as e:\n",
    "    print(f\"Caught a BoxValueError: {e}\")\n"
   ]
  },
  {
   "cell_type": "markdown",
   "id": "f8a9fd5e",
   "metadata": {},
   "source": [
    "Explanation of @ensure_annotation decorator"
   ]
  },
  {
   "cell_type": "code",
   "execution_count": null,
   "id": "1e6ba30b",
   "metadata": {},
   "outputs": [],
   "source": [
    "def ensure_annotation(expected_type):\n",
    "    def decorator(func):\n",
    "        def wrapper(*args, **kwargs):\n",
    "            result = func(*args, **kwargs)\n",
    "            if not isinstance(result, expected_type):\n",
    "                raise BoxValueError(f\"Return value must be of type {expected_type.__name__}\")\n",
    "            return result\n",
    "        return wrapper\n",
    "    return decorator"
   ]
  },
  {
   "cell_type": "code",
   "execution_count": 25,
   "id": "b52c3acf",
   "metadata": {},
   "outputs": [
    {
     "name": "stdout",
     "output_type": "stream",
     "text": [
      "2\n",
      "11\n"
     ]
    }
   ],
   "source": [
    "#without @ensue_annotation decorator and only using typehints\n",
    "def get_product(a: int, b: int) -> int:\n",
    "    return a * b\n",
    "\n",
    "print(get_product(1,2))\n",
    "print(get_product(\"1\",2))  # this will not raise any error"
   ]
  },
  {
   "cell_type": "code",
   "execution_count": 33,
   "id": "5248732a",
   "metadata": {},
   "outputs": [],
   "source": [
    "# pip install ensure"
   ]
  },
  {
   "cell_type": "code",
   "execution_count": 4,
   "id": "a4207112",
   "metadata": {},
   "outputs": [
    {
     "name": "stdout",
     "output_type": "stream",
     "text": [
      "2\n"
     ]
    },
    {
     "ename": "EnsureError",
     "evalue": "Argument a of type <class 'str'> to <function get_product at 0x00000282EE170C20> does not match annotation type <class 'int'>",
     "output_type": "error",
     "traceback": [
      "\u001b[1;31m---------------------------------------------------------------------------\u001b[0m",
      "\u001b[1;31mEnsureError\u001b[0m                               Traceback (most recent call last)",
      "\u001b[1;32m~\\AppData\\Local\\Temp\\ipykernel_14572\\2552718252.py\u001b[0m in \u001b[0;36m<cell line: 0>\u001b[1;34m()\u001b[0m\n\u001b[0;32m      7\u001b[0m \u001b[1;33m\u001b[0m\u001b[0m\n\u001b[0;32m      8\u001b[0m \u001b[0mprint\u001b[0m\u001b[1;33m(\u001b[0m\u001b[0mget_product\u001b[0m\u001b[1;33m(\u001b[0m\u001b[1;36m1\u001b[0m\u001b[1;33m,\u001b[0m\u001b[1;36m2\u001b[0m\u001b[1;33m)\u001b[0m\u001b[1;33m)\u001b[0m\u001b[1;33m\u001b[0m\u001b[1;33m\u001b[0m\u001b[0m\n\u001b[1;32m----> 9\u001b[1;33m \u001b[0mprint\u001b[0m\u001b[1;33m(\u001b[0m\u001b[0mget_product\u001b[0m\u001b[1;33m(\u001b[0m\u001b[1;34m\"1\"\u001b[0m\u001b[1;33m,\u001b[0m\u001b[1;36m2\u001b[0m\u001b[1;33m)\u001b[0m\u001b[1;33m)\u001b[0m  \u001b[1;31m# this will raise an error\u001b[0m\u001b[1;33m\u001b[0m\u001b[1;33m\u001b[0m\u001b[0m\n\u001b[0m",
      "\u001b[1;32m~\\AppData\\Roaming\\Python\\Python311\\site-packages\\ensure\\main.py\u001b[0m in \u001b[0;36m__call__\u001b[1;34m(self, *args, **kwargs)\u001b[0m\n\u001b[0;32m    843\u001b[0m                     \u001b[1;34m\"does not match annotation type {t}\"\u001b[0m\u001b[1;33m\u001b[0m\u001b[1;33m\u001b[0m\u001b[0m\n\u001b[0;32m    844\u001b[0m                 )\n\u001b[1;32m--> 845\u001b[1;33m                 raise EnsureError(msg.format(\n\u001b[0m\u001b[0;32m    846\u001b[0m                     \u001b[0marg\u001b[0m\u001b[1;33m=\u001b[0m\u001b[0marg\u001b[0m\u001b[1;33m,\u001b[0m \u001b[0mf\u001b[0m\u001b[1;33m=\u001b[0m\u001b[0mself\u001b[0m\u001b[1;33m.\u001b[0m\u001b[0mf\u001b[0m\u001b[1;33m,\u001b[0m \u001b[0mt\u001b[0m\u001b[1;33m=\u001b[0m\u001b[0mtempl\u001b[0m\u001b[1;33m,\u001b[0m \u001b[0mvalt\u001b[0m\u001b[1;33m=\u001b[0m\u001b[0mtype\u001b[0m\u001b[1;33m(\u001b[0m\u001b[0mvalue\u001b[0m\u001b[1;33m)\u001b[0m\u001b[1;33m\u001b[0m\u001b[1;33m\u001b[0m\u001b[0m\n\u001b[0;32m    847\u001b[0m                 ))\n",
      "\u001b[1;31mEnsureError\u001b[0m: Argument a of type <class 'str'> to <function get_product at 0x00000282EE170C20> does not match annotation type <class 'int'>"
     ]
    }
   ],
   "source": [
    "#with @ensure_annotation decorator\n",
    "from ensure import ensure_annotations\n",
    "\n",
    "@ensure_annotations\n",
    "def get_product(a: int, b: int) -> int:\n",
    "    return a * b\n",
    "\n",
    "print(get_product(1,2))\n",
    "print(get_product(\"1\",2))  # this will raise an error"
   ]
  },
  {
   "cell_type": "code",
   "execution_count": 7,
   "id": "aa880235",
   "metadata": {},
   "outputs": [],
   "source": [
    "import sys\n",
    "import os\n",
    "\n",
    "# Add the parent directory containing 'src' to sys.path\n",
    "sys.path.append(os.path.abspath(os.path.join(os.getcwd(), '..')))\n",
    "\n",
    "from src.CNNClassifier.constants import CONFIG_FILE_PATH"
   ]
  },
  {
   "cell_type": "code",
   "execution_count": null,
   "id": "5228e5fc",
   "metadata": {},
   "outputs": [],
   "source": []
  },
  {
   "cell_type": "code",
   "execution_count": null,
   "id": "47891125",
   "metadata": {},
   "outputs": [
    {
     "data": {
      "text/plain": [
       "'c:\\\\Users\\\\HP\\\\Desktop\\\\DS\\\\DL_Projects\\\\2025-projects\\\\End-to-End-Industrial-Grade-DL-Project\\\\research'"
      ]
     },
     "execution_count": 9,
     "metadata": {},
     "output_type": "execute_result"
    }
   ],
   "source": []
  }
 ],
 "metadata": {
  "kernelspec": {
   "display_name": "Python 3",
   "language": "python",
   "name": "python3"
  },
  "language_info": {
   "codemirror_mode": {
    "name": "ipython",
    "version": 3
   },
   "file_extension": ".py",
   "mimetype": "text/x-python",
   "name": "python",
   "nbconvert_exporter": "python",
   "pygments_lexer": "ipython3",
   "version": "3.11.13"
  }
 },
 "nbformat": 4,
 "nbformat_minor": 5
}
