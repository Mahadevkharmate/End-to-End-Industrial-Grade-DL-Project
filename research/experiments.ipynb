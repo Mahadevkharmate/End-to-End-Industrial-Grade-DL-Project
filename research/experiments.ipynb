{
 "cells": [
  {
   "cell_type": "code",
   "execution_count": 1,
   "id": "136ee6fc",
   "metadata": {},
   "outputs": [],
   "source": [
    "from box import Box\n",
    "from box.exceptions import BoxValueError\n",
    "\n",
    "config  = {\"learning_rate\": 0.01, \"batch_size\": 32, \"model\": {\"type\": \"resnet\", \"layers\": 50}}\n"
   ]
  },
  {
   "cell_type": "code",
   "execution_count": 8,
   "id": "5f09f1f1",
   "metadata": {},
   "outputs": [
    {
     "ename": "AttributeError",
     "evalue": "'dict' object has no attribute 'learning_rate'",
     "output_type": "error",
     "traceback": [
      "\u001b[1;31m---------------------------------------------------------------------------\u001b[0m",
      "\u001b[1;31mAttributeError\u001b[0m                            Traceback (most recent call last)",
      "\u001b[1;32m~\\AppData\\Local\\Temp\\ipykernel_3024\\3782651748.py\u001b[0m in \u001b[0;36m<cell line: 0>\u001b[1;34m()\u001b[0m\n\u001b[1;32m----> 1\u001b[1;33m \u001b[0mconfig\u001b[0m\u001b[1;33m.\u001b[0m\u001b[0mlearning_rate\u001b[0m \u001b[1;33m=\u001b[0m \u001b[1;36m0.002\u001b[0m\u001b[1;33m\u001b[0m\u001b[1;33m\u001b[0m\u001b[0m\n\u001b[0m",
      "\u001b[1;31mAttributeError\u001b[0m: 'dict' object has no attribute 'learning_rate'"
     ]
    }
   ],
   "source": [
    "config[\"learning_rate\"] = 0.002"
   ]
  },
  {
   "cell_type": "code",
   "execution_count": 16,
   "id": "46fe2c38",
   "metadata": {},
   "outputs": [],
   "source": [
    "config = {'learning_rate': 0.03, 'batch_size': 32, 'model': {'type': 'resnet', 'layers': 50}}"
   ]
  },
  {
   "cell_type": "code",
   "execution_count": 20,
   "id": "75b2b742",
   "metadata": {},
   "outputs": [
    {
     "data": {
      "text/plain": [
       "dict"
      ]
     },
     "execution_count": 20,
     "metadata": {},
     "output_type": "execute_result"
    }
   ],
   "source": [
    "type(config)"
   ]
  },
  {
   "cell_type": "code",
   "execution_count": 4,
   "id": "fe9bfe8f",
   "metadata": {},
   "outputs": [
    {
     "data": {
      "text/plain": [
       "0.03"
      ]
     },
     "execution_count": 4,
     "metadata": {},
     "output_type": "execute_result"
    }
   ],
   "source": [
    "config[\"learning_rate\"]"
   ]
  },
  {
   "cell_type": "code",
   "execution_count": 21,
   "id": "88db73bc",
   "metadata": {},
   "outputs": [
    {
     "data": {
      "text/plain": [
       "Box({'learning_rate': 0.03, 'batch_size': 32, 'model': {'type': 'resnet', 'layers': 50}})"
      ]
     },
     "execution_count": 21,
     "metadata": {},
     "output_type": "execute_result"
    }
   ],
   "source": [
    "config = Box(config)\n",
    "config "
   ]
  },
  {
   "cell_type": "code",
   "execution_count": 22,
   "id": "1d9bf7ac",
   "metadata": {},
   "outputs": [
    {
     "data": {
      "text/plain": [
       "box.box.Box"
      ]
     },
     "execution_count": 22,
     "metadata": {},
     "output_type": "execute_result"
    }
   ],
   "source": [
    "type(config)"
   ]
  },
  {
   "cell_type": "code",
   "execution_count": 23,
   "id": "65db5798",
   "metadata": {},
   "outputs": [
    {
     "data": {
      "text/plain": [
       "ConfigBox({'learning_rate': 0.03, 'batch_size': 32, 'model': {'type': 'resnet', 'layers': 50}})"
      ]
     },
     "execution_count": 23,
     "metadata": {},
     "output_type": "execute_result"
    }
   ],
   "source": [
    "from box import ConfigBox\n",
    "\n",
    "Config = ConfigBox(config)\n",
    "Config "
   ]
  },
  {
   "cell_type": "code",
   "execution_count": 15,
   "id": "ade772f9",
   "metadata": {},
   "outputs": [
    {
     "data": {
      "text/plain": [
       "0.01"
      ]
     },
     "execution_count": 15,
     "metadata": {},
     "output_type": "execute_result"
    }
   ],
   "source": [
    "config.learning_rate"
   ]
  },
  {
   "cell_type": "code",
   "execution_count": 23,
   "id": "18ff31ec",
   "metadata": {},
   "outputs": [],
   "source": [
    "config.model.type = \"vgg\""
   ]
  },
  {
   "cell_type": "code",
   "execution_count": 24,
   "id": "f7744d48",
   "metadata": {},
   "outputs": [
    {
     "data": {
      "text/plain": [
       "'vgg'"
      ]
     },
     "execution_count": 24,
     "metadata": {},
     "output_type": "execute_result"
    }
   ],
   "source": [
    "config.model.type "
   ]
  },
  {
   "cell_type": "code",
   "execution_count": 6,
   "id": "af479b8e",
   "metadata": {},
   "outputs": [
    {
     "name": "stdout",
     "output_type": "stream",
     "text": [
      "Caught a BoxValueError: learning_rate must be numeric\n"
     ]
    }
   ],
   "source": [
    "from box import Box\n",
    "from box.exceptions import BoxValueError\n",
    "\n",
    "try:\n",
    "    # Create a Box\n",
    "    config = Box({\"learning_rate\": 0.01})\n",
    "    \n",
    "    # Try something invalid\n",
    "    config.learning_rate = \"fast\"   # expecting a number, but got string\n",
    "    \n",
    "    if not isinstance(config.learning_rate, (int, float)):\n",
    "        raise BoxValueError(\"learning_rate must be numeric\")\n",
    "    print(config.learning_rate)\n",
    "except BoxValueError as e:\n",
    "    print(f\"Caught a BoxValueError: {e}\")\n"
   ]
  },
  {
   "cell_type": "markdown",
   "id": "f8a9fd5e",
   "metadata": {},
   "source": [
    "Explanation of @ensure_annotation decorator"
   ]
  },
  {
   "cell_type": "code",
   "execution_count": null,
   "id": "1e6ba30b",
   "metadata": {},
   "outputs": [],
   "source": [
    "def ensure_annotation(expected_type):\n",
    "    def decorator(func):\n",
    "        def wrapper(*args, **kwargs):\n",
    "            result = func(*args, **kwargs)\n",
    "            if not isinstance(result, expected_type):\n",
    "                raise BoxValueError(f\"Return value must be of type {expected_type.__name__}\")\n",
    "            return result\n",
    "        return wrapper\n",
    "    return decorator"
   ]
  },
  {
   "cell_type": "code",
   "execution_count": 25,
   "id": "b52c3acf",
   "metadata": {},
   "outputs": [
    {
     "name": "stdout",
     "output_type": "stream",
     "text": [
      "2\n",
      "11\n"
     ]
    }
   ],
   "source": [
    "#without @ensue_annotation decorator and only using typehints\n",
    "def get_product(a: int, b: int) -> int:\n",
    "    return a * b\n",
    "\n",
    "print(get_product(1,2))\n",
    "print(get_product(\"1\",2))  # this will not raise any error"
   ]
  },
  {
   "cell_type": "code",
   "execution_count": 33,
   "id": "5248732a",
   "metadata": {},
   "outputs": [],
   "source": [
    "# pip install ensure"
   ]
  },
  {
   "cell_type": "code",
   "execution_count": 4,
   "id": "a4207112",
   "metadata": {},
   "outputs": [
    {
     "name": "stdout",
     "output_type": "stream",
     "text": [
      "2\n"
     ]
    },
    {
     "ename": "EnsureError",
     "evalue": "Argument a of type <class 'str'> to <function get_product at 0x00000282EE170C20> does not match annotation type <class 'int'>",
     "output_type": "error",
     "traceback": [
      "\u001b[1;31m---------------------------------------------------------------------------\u001b[0m",
      "\u001b[1;31mEnsureError\u001b[0m                               Traceback (most recent call last)",
      "\u001b[1;32m~\\AppData\\Local\\Temp\\ipykernel_14572\\2552718252.py\u001b[0m in \u001b[0;36m<cell line: 0>\u001b[1;34m()\u001b[0m\n\u001b[0;32m      7\u001b[0m \u001b[1;33m\u001b[0m\u001b[0m\n\u001b[0;32m      8\u001b[0m \u001b[0mprint\u001b[0m\u001b[1;33m(\u001b[0m\u001b[0mget_product\u001b[0m\u001b[1;33m(\u001b[0m\u001b[1;36m1\u001b[0m\u001b[1;33m,\u001b[0m\u001b[1;36m2\u001b[0m\u001b[1;33m)\u001b[0m\u001b[1;33m)\u001b[0m\u001b[1;33m\u001b[0m\u001b[1;33m\u001b[0m\u001b[0m\n\u001b[1;32m----> 9\u001b[1;33m \u001b[0mprint\u001b[0m\u001b[1;33m(\u001b[0m\u001b[0mget_product\u001b[0m\u001b[1;33m(\u001b[0m\u001b[1;34m\"1\"\u001b[0m\u001b[1;33m,\u001b[0m\u001b[1;36m2\u001b[0m\u001b[1;33m)\u001b[0m\u001b[1;33m)\u001b[0m  \u001b[1;31m# this will raise an error\u001b[0m\u001b[1;33m\u001b[0m\u001b[1;33m\u001b[0m\u001b[0m\n\u001b[0m",
      "\u001b[1;32m~\\AppData\\Roaming\\Python\\Python311\\site-packages\\ensure\\main.py\u001b[0m in \u001b[0;36m__call__\u001b[1;34m(self, *args, **kwargs)\u001b[0m\n\u001b[0;32m    843\u001b[0m                     \u001b[1;34m\"does not match annotation type {t}\"\u001b[0m\u001b[1;33m\u001b[0m\u001b[1;33m\u001b[0m\u001b[0m\n\u001b[0;32m    844\u001b[0m                 )\n\u001b[1;32m--> 845\u001b[1;33m                 raise EnsureError(msg.format(\n\u001b[0m\u001b[0;32m    846\u001b[0m                     \u001b[0marg\u001b[0m\u001b[1;33m=\u001b[0m\u001b[0marg\u001b[0m\u001b[1;33m,\u001b[0m \u001b[0mf\u001b[0m\u001b[1;33m=\u001b[0m\u001b[0mself\u001b[0m\u001b[1;33m.\u001b[0m\u001b[0mf\u001b[0m\u001b[1;33m,\u001b[0m \u001b[0mt\u001b[0m\u001b[1;33m=\u001b[0m\u001b[0mtempl\u001b[0m\u001b[1;33m,\u001b[0m \u001b[0mvalt\u001b[0m\u001b[1;33m=\u001b[0m\u001b[0mtype\u001b[0m\u001b[1;33m(\u001b[0m\u001b[0mvalue\u001b[0m\u001b[1;33m)\u001b[0m\u001b[1;33m\u001b[0m\u001b[1;33m\u001b[0m\u001b[0m\n\u001b[0;32m    847\u001b[0m                 ))\n",
      "\u001b[1;31mEnsureError\u001b[0m: Argument a of type <class 'str'> to <function get_product at 0x00000282EE170C20> does not match annotation type <class 'int'>"
     ]
    }
   ],
   "source": [
    "#with @ensure_annotation decorator\n",
    "from ensure import ensure_annotations\n",
    "\n",
    "@ensure_annotations\n",
    "def get_product(a: int, b: int) -> int:\n",
    "    return a * b\n",
    "\n",
    "print(get_product(1,2))\n",
    "print(get_product(\"1\",2))  # this will raise an error"
   ]
  },
  {
   "cell_type": "code",
   "execution_count": 7,
   "id": "aa880235",
   "metadata": {},
   "outputs": [],
   "source": [
    "import sys\n",
    "import os\n",
    "\n",
    "# Add the parent directory containing 'src' to sys.path\n",
    "sys.path.append(os.path.abspath(os.path.join(os.getcwd(), '..')))\n",
    "\n",
    "from src.CNNClassifier.constants import CONFIG_FILE_PATH"
   ]
  },
  {
   "cell_type": "code",
   "execution_count": 2,
   "id": "99f0efa8",
   "metadata": {},
   "outputs": [
    {
     "data": {
      "text/plain": [
       "'c:\\\\Users\\\\HP\\\\Desktop\\\\DS\\\\DL_Projects\\\\2025-projects\\\\End-to-End-Industrial-Grade-DL-Project\\\\research'"
      ]
     },
     "execution_count": 2,
     "metadata": {},
     "output_type": "execute_result"
    }
   ],
   "source": [
    "%pwd"
   ]
  },
  {
   "cell_type": "code",
   "execution_count": 3,
   "id": "3fa856c5",
   "metadata": {},
   "outputs": [],
   "source": [
    "import os\n",
    "os.chdir(\"../\")"
   ]
  },
  {
   "cell_type": "code",
   "execution_count": 4,
   "id": "a210dd29",
   "metadata": {},
   "outputs": [
    {
     "data": {
      "text/plain": [
       "'c:\\\\Users\\\\HP\\\\Desktop\\\\DS\\\\DL_Projects\\\\2025-projects\\\\End-to-End-Industrial-Grade-DL-Project'"
      ]
     },
     "execution_count": 4,
     "metadata": {},
     "output_type": "execute_result"
    }
   ],
   "source": [
    "%pwd"
   ]
  },
  {
   "cell_type": "code",
   "execution_count": 5,
   "id": "5228e5fc",
   "metadata": {},
   "outputs": [
    {
     "name": "stdout",
     "output_type": "stream",
     "text": [
      "Obtaining file:///C:/Users/HP/Desktop/DS/DL_Projects/2025-projects/End-to-End-Industrial-Grade-DL-Project\n",
      "  Installing build dependencies: started\n",
      "  Installing build dependencies: finished with status 'done'\n",
      "  Checking if build backend supports build_editable: started\n",
      "  Checking if build backend supports build_editable: finished with status 'done'\n",
      "  Getting requirements to build editable: started\n",
      "  Getting requirements to build editable: finished with status 'done'\n",
      "  Preparing editable metadata (pyproject.toml): started\n",
      "  Preparing editable metadata (pyproject.toml): finished with status 'done'\n",
      "Requirement already satisfied: tensorflow>=2.0.0 in c:\\users\\hp\\appdata\\roaming\\python\\python311\\site-packages (from End-to-End-Industrial-Grade-DL-Project==0.1.0) (2.19.1)\n",
      "Requirement already satisfied: numpy>=1.18.0 in c:\\users\\hp\\appdata\\roaming\\python\\python311\\site-packages (from End-to-End-Industrial-Grade-DL-Project==0.1.0) (1.26.4)\n",
      "Requirement already satisfied: matplotlib>=3.0.0 in c:\\users\\hp\\appdata\\roaming\\python\\python311\\site-packages (from End-to-End-Industrial-Grade-DL-Project==0.1.0) (3.7.1)\n",
      "Requirement already satisfied: pandas>=1.0.0 in c:\\users\\hp\\appdata\\roaming\\python\\python311\\site-packages (from End-to-End-Industrial-Grade-DL-Project==0.1.0) (1.5.3)\n",
      "Requirement already satisfied: scikit-learn>=0.22.0 in c:\\users\\hp\\appdata\\roaming\\python\\python311\\site-packages (from End-to-End-Industrial-Grade-DL-Project==0.1.0) (1.2.2)\n",
      "Requirement already satisfied: contourpy>=1.0.1 in c:\\users\\hp\\appdata\\roaming\\python\\python311\\site-packages (from matplotlib>=3.0.0->End-to-End-Industrial-Grade-DL-Project==0.1.0) (1.0.7)\n",
      "Requirement already satisfied: cycler>=0.10 in c:\\users\\hp\\appdata\\roaming\\python\\python311\\site-packages (from matplotlib>=3.0.0->End-to-End-Industrial-Grade-DL-Project==0.1.0) (0.11.0)\n",
      "Requirement already satisfied: fonttools>=4.22.0 in c:\\users\\hp\\appdata\\roaming\\python\\python311\\site-packages (from matplotlib>=3.0.0->End-to-End-Industrial-Grade-DL-Project==0.1.0) (4.39.0)\n",
      "Requirement already satisfied: kiwisolver>=1.0.1 in c:\\users\\hp\\appdata\\roaming\\python\\python311\\site-packages (from matplotlib>=3.0.0->End-to-End-Industrial-Grade-DL-Project==0.1.0) (1.4.4)\n",
      "Requirement already satisfied: packaging>=20.0 in c:\\users\\hp\\appdata\\roaming\\python\\python311\\site-packages (from matplotlib>=3.0.0->End-to-End-Industrial-Grade-DL-Project==0.1.0) (23.0)\n",
      "Requirement already satisfied: pillow>=6.2.0 in c:\\users\\hp\\appdata\\roaming\\python\\python311\\site-packages (from matplotlib>=3.0.0->End-to-End-Industrial-Grade-DL-Project==0.1.0) (9.4.0)\n",
      "Requirement already satisfied: pyparsing>=2.3.1 in c:\\users\\hp\\appdata\\roaming\\python\\python311\\site-packages (from matplotlib>=3.0.0->End-to-End-Industrial-Grade-DL-Project==0.1.0) (3.2.3)\n",
      "Requirement already satisfied: python-dateutil>=2.7 in c:\\users\\hp\\appdata\\roaming\\python\\python311\\site-packages (from matplotlib>=3.0.0->End-to-End-Industrial-Grade-DL-Project==0.1.0) (2.8.2)\n",
      "Requirement already satisfied: pytz>=2020.1 in c:\\users\\hp\\appdata\\roaming\\python\\python311\\site-packages (from pandas>=1.0.0->End-to-End-Industrial-Grade-DL-Project==0.1.0) (2022.7.1)\n",
      "Requirement already satisfied: six>=1.5 in c:\\users\\hp\\appdata\\roaming\\python\\python311\\site-packages (from python-dateutil>=2.7->matplotlib>=3.0.0->End-to-End-Industrial-Grade-DL-Project==0.1.0) (1.16.0)\n",
      "Requirement already satisfied: scipy>=1.3.2 in c:\\users\\hp\\appdata\\roaming\\python\\python311\\site-packages (from scikit-learn>=0.22.0->End-to-End-Industrial-Grade-DL-Project==0.1.0) (1.10.1)\n",
      "Requirement already satisfied: joblib>=1.1.1 in c:\\users\\hp\\appdata\\roaming\\python\\python311\\site-packages (from scikit-learn>=0.22.0->End-to-End-Industrial-Grade-DL-Project==0.1.0) (1.2.0)\n",
      "Requirement already satisfied: threadpoolctl>=2.0.0 in c:\\users\\hp\\appdata\\roaming\\python\\python311\\site-packages (from scikit-learn>=0.22.0->End-to-End-Industrial-Grade-DL-Project==0.1.0) (3.1.0)\n",
      "Requirement already satisfied: absl-py>=1.0.0 in c:\\users\\hp\\appdata\\roaming\\python\\python311\\site-packages (from tensorflow>=2.0.0->End-to-End-Industrial-Grade-DL-Project==0.1.0) (2.3.1)\n",
      "Requirement already satisfied: astunparse>=1.6.0 in c:\\users\\hp\\appdata\\roaming\\python\\python311\\site-packages (from tensorflow>=2.0.0->End-to-End-Industrial-Grade-DL-Project==0.1.0) (1.6.3)\n",
      "Requirement already satisfied: flatbuffers>=24.3.25 in c:\\users\\hp\\appdata\\roaming\\python\\python311\\site-packages (from tensorflow>=2.0.0->End-to-End-Industrial-Grade-DL-Project==0.1.0) (25.2.10)\n",
      "Requirement already satisfied: gast!=0.5.0,!=0.5.1,!=0.5.2,>=0.2.1 in c:\\users\\hp\\appdata\\roaming\\python\\python311\\site-packages (from tensorflow>=2.0.0->End-to-End-Industrial-Grade-DL-Project==0.1.0) (0.6.0)\n",
      "Requirement already satisfied: google-pasta>=0.1.1 in c:\\users\\hp\\appdata\\roaming\\python\\python311\\site-packages (from tensorflow>=2.0.0->End-to-End-Industrial-Grade-DL-Project==0.1.0) (0.2.0)\n",
      "Requirement already satisfied: libclang>=13.0.0 in c:\\users\\hp\\appdata\\roaming\\python\\python311\\site-packages (from tensorflow>=2.0.0->End-to-End-Industrial-Grade-DL-Project==0.1.0) (18.1.1)\n",
      "Requirement already satisfied: opt-einsum>=2.3.2 in c:\\users\\hp\\appdata\\roaming\\python\\python311\\site-packages (from tensorflow>=2.0.0->End-to-End-Industrial-Grade-DL-Project==0.1.0) (3.4.0)\n",
      "Requirement already satisfied: protobuf!=4.21.0,!=4.21.1,!=4.21.2,!=4.21.3,!=4.21.4,!=4.21.5,<6.0.0dev,>=3.20.3 in c:\\users\\hp\\appdata\\roaming\\python\\python311\\site-packages (from tensorflow>=2.0.0->End-to-End-Industrial-Grade-DL-Project==0.1.0) (4.25.8)\n",
      "Requirement already satisfied: requests<3,>=2.21.0 in c:\\users\\hp\\appdata\\roaming\\python\\python311\\site-packages (from tensorflow>=2.0.0->End-to-End-Industrial-Grade-DL-Project==0.1.0) (2.32.3)\n",
      "Requirement already satisfied: setuptools in c:\\users\\hp\\appdata\\roaming\\python\\python311\\site-packages (from tensorflow>=2.0.0->End-to-End-Industrial-Grade-DL-Project==0.1.0) (80.9.0)\n",
      "Requirement already satisfied: termcolor>=1.1.0 in c:\\users\\hp\\appdata\\roaming\\python\\python311\\site-packages (from tensorflow>=2.0.0->End-to-End-Industrial-Grade-DL-Project==0.1.0) (3.1.0)\n",
      "Requirement already satisfied: typing-extensions>=3.6.6 in c:\\users\\hp\\appdata\\roaming\\python\\python311\\site-packages (from tensorflow>=2.0.0->End-to-End-Industrial-Grade-DL-Project==0.1.0) (4.14.0)\n",
      "Requirement already satisfied: wrapt>=1.11.0 in c:\\users\\hp\\appdata\\roaming\\python\\python311\\site-packages (from tensorflow>=2.0.0->End-to-End-Industrial-Grade-DL-Project==0.1.0) (1.17.3)\n",
      "Requirement already satisfied: grpcio<2.0,>=1.24.3 in c:\\users\\hp\\appdata\\roaming\\python\\python311\\site-packages (from tensorflow>=2.0.0->End-to-End-Industrial-Grade-DL-Project==0.1.0) (1.74.0)\n",
      "Requirement already satisfied: tensorboard~=2.19.0 in c:\\users\\hp\\appdata\\roaming\\python\\python311\\site-packages (from tensorflow>=2.0.0->End-to-End-Industrial-Grade-DL-Project==0.1.0) (2.19.0)\n",
      "Requirement already satisfied: keras>=3.5.0 in c:\\users\\hp\\appdata\\roaming\\python\\python311\\site-packages (from tensorflow>=2.0.0->End-to-End-Industrial-Grade-DL-Project==0.1.0) (3.11.2)\n",
      "Requirement already satisfied: h5py>=3.11.0 in c:\\users\\hp\\appdata\\roaming\\python\\python311\\site-packages (from tensorflow>=2.0.0->End-to-End-Industrial-Grade-DL-Project==0.1.0) (3.14.0)\n",
      "Requirement already satisfied: ml-dtypes<1.0.0,>=0.5.1 in c:\\users\\hp\\appdata\\roaming\\python\\python311\\site-packages (from tensorflow>=2.0.0->End-to-End-Industrial-Grade-DL-Project==0.1.0) (0.5.3)\n",
      "Requirement already satisfied: tensorflow-io-gcs-filesystem>=0.23.1 in c:\\users\\hp\\appdata\\roaming\\python\\python311\\site-packages (from tensorflow>=2.0.0->End-to-End-Industrial-Grade-DL-Project==0.1.0) (0.31.0)\n",
      "Requirement already satisfied: charset-normalizer<4,>=2 in c:\\users\\hp\\appdata\\roaming\\python\\python311\\site-packages (from requests<3,>=2.21.0->tensorflow>=2.0.0->End-to-End-Industrial-Grade-DL-Project==0.1.0) (3.1.0)\n",
      "Requirement already satisfied: idna<4,>=2.5 in c:\\users\\hp\\appdata\\roaming\\python\\python311\\site-packages (from requests<3,>=2.21.0->tensorflow>=2.0.0->End-to-End-Industrial-Grade-DL-Project==0.1.0) (3.4)\n",
      "Requirement already satisfied: urllib3<3,>=1.21.1 in c:\\users\\hp\\appdata\\roaming\\python\\python311\\site-packages (from requests<3,>=2.21.0->tensorflow>=2.0.0->End-to-End-Industrial-Grade-DL-Project==0.1.0) (1.26.20)\n",
      "Requirement already satisfied: certifi>=2017.4.17 in c:\\users\\hp\\appdata\\roaming\\python\\python311\\site-packages (from requests<3,>=2.21.0->tensorflow>=2.0.0->End-to-End-Industrial-Grade-DL-Project==0.1.0) (2025.6.15)\n",
      "Requirement already satisfied: markdown>=2.6.8 in c:\\users\\hp\\appdata\\roaming\\python\\python311\\site-packages (from tensorboard~=2.19.0->tensorflow>=2.0.0->End-to-End-Industrial-Grade-DL-Project==0.1.0) (3.4.3)\n",
      "Requirement already satisfied: tensorboard-data-server<0.8.0,>=0.7.0 in c:\\users\\hp\\appdata\\roaming\\python\\python311\\site-packages (from tensorboard~=2.19.0->tensorflow>=2.0.0->End-to-End-Industrial-Grade-DL-Project==0.1.0) (0.7.2)\n",
      "Requirement already satisfied: werkzeug>=1.0.1 in c:\\users\\hp\\appdata\\roaming\\python\\python311\\site-packages (from tensorboard~=2.19.0->tensorflow>=2.0.0->End-to-End-Industrial-Grade-DL-Project==0.1.0) (2.2.3)\n",
      "Requirement already satisfied: wheel<1.0,>=0.23.0 in c:\\users\\hp\\appdata\\roaming\\python\\python311\\site-packages (from astunparse>=1.6.0->tensorflow>=2.0.0->End-to-End-Industrial-Grade-DL-Project==0.1.0) (0.45.1)\n",
      "Requirement already satisfied: rich in c:\\users\\hp\\appdata\\roaming\\python\\python311\\site-packages (from keras>=3.5.0->tensorflow>=2.0.0->End-to-End-Industrial-Grade-DL-Project==0.1.0) (14.1.0)\n",
      "Requirement already satisfied: namex in c:\\users\\hp\\appdata\\roaming\\python\\python311\\site-packages (from keras>=3.5.0->tensorflow>=2.0.0->End-to-End-Industrial-Grade-DL-Project==0.1.0) (0.1.0)\n",
      "Requirement already satisfied: optree in c:\\users\\hp\\appdata\\roaming\\python\\python311\\site-packages (from keras>=3.5.0->tensorflow>=2.0.0->End-to-End-Industrial-Grade-DL-Project==0.1.0) (0.17.0)\n",
      "Requirement already satisfied: MarkupSafe>=2.1.1 in c:\\users\\hp\\appdata\\roaming\\python\\python311\\site-packages (from werkzeug>=1.0.1->tensorboard~=2.19.0->tensorflow>=2.0.0->End-to-End-Industrial-Grade-DL-Project==0.1.0) (2.1.2)\n",
      "Requirement already satisfied: markdown-it-py>=2.2.0 in c:\\users\\hp\\appdata\\roaming\\python\\python311\\site-packages (from rich->keras>=3.5.0->tensorflow>=2.0.0->End-to-End-Industrial-Grade-DL-Project==0.1.0) (4.0.0)\n",
      "Requirement already satisfied: pygments<3.0.0,>=2.13.0 in c:\\users\\hp\\appdata\\roaming\\python\\python311\\site-packages (from rich->keras>=3.5.0->tensorflow>=2.0.0->End-to-End-Industrial-Grade-DL-Project==0.1.0) (2.14.0)\n",
      "Requirement already satisfied: mdurl~=0.1 in c:\\users\\hp\\appdata\\roaming\\python\\python311\\site-packages (from markdown-it-py>=2.2.0->rich->keras>=3.5.0->tensorflow>=2.0.0->End-to-End-Industrial-Grade-DL-Project==0.1.0) (0.1.2)\n",
      "Building wheels for collected packages: End-to-End-Industrial-Grade-DL-Project\n",
      "  Building editable for End-to-End-Industrial-Grade-DL-Project (pyproject.toml): started\n",
      "  Building editable for End-to-End-Industrial-Grade-DL-Project (pyproject.toml): finished with status 'done'\n",
      "  Created wheel for End-to-End-Industrial-Grade-DL-Project: filename=end_to_end_industrial_grade_dl_project-0.1.0-0.editable-py3-none-any.whl size=6574 sha256=db202f7ad4a97e244329498ca5696f613064b300d4c81707e108927a3f84a919\n",
      "  Stored in directory: C:\\Users\\HP\\AppData\\Local\\Temp\\pip-ephem-wheel-cache-16_2faqz\\wheels\\ad\\71\\e0\\df130e3594a0343ecf74ad72707acf8c6be7c934dfbaecf15a\n",
      "Successfully built End-to-End-Industrial-Grade-DL-Project\n",
      "Installing collected packages: End-to-End-Industrial-Grade-DL-Project\n",
      "  Attempting uninstall: End-to-End-Industrial-Grade-DL-Project\n",
      "    Found existing installation: End-to-End-Industrial-Grade-DL-Project 0.1.0\n",
      "    Uninstalling End-to-End-Industrial-Grade-DL-Project-0.1.0:\n",
      "      Successfully uninstalled End-to-End-Industrial-Grade-DL-Project-0.1.0\n",
      "Successfully installed End-to-End-Industrial-Grade-DL-Project-0.1.0\n",
      "Note: you may need to restart the kernel to use updated packages.\n"
     ]
    }
   ],
   "source": [
    "pip install -e ."
   ]
  },
  {
   "cell_type": "code",
   "execution_count": null,
   "id": "d1a2dcfb",
   "metadata": {},
   "outputs": [],
   "source": []
  },
  {
   "cell_type": "code",
   "execution_count": null,
   "id": "cae6f77a",
   "metadata": {},
   "outputs": [],
   "source": []
  },
  {
   "cell_type": "code",
   "execution_count": null,
   "id": "47891125",
   "metadata": {},
   "outputs": [
    {
     "data": {
      "text/plain": [
       "'c:\\\\Users\\\\HP\\\\Desktop\\\\DS\\\\DL_Projects\\\\2025-projects\\\\End-to-End-Industrial-Grade-DL-Project\\\\research'"
      ]
     },
     "execution_count": 9,
     "metadata": {},
     "output_type": "execute_result"
    }
   ],
   "source": []
  }
 ],
 "metadata": {
  "kernelspec": {
   "display_name": "Python 3",
   "language": "python",
   "name": "python3"
  },
  "language_info": {
   "codemirror_mode": {
    "name": "ipython",
    "version": 3
   },
   "file_extension": ".py",
   "mimetype": "text/x-python",
   "name": "python",
   "nbconvert_exporter": "python",
   "pygments_lexer": "ipython3",
   "version": "3.11.13"
  }
 },
 "nbformat": 4,
 "nbformat_minor": 5
}
